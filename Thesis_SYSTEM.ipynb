{
  "cells": [
    {
      "cell_type": "markdown",
      "metadata": {
        "id": "r37-0Kl8aYRX"
      },
      "source": [
        "## Setting enviroment"
      ]
    },
    {
      "cell_type": "markdown",
      "metadata": {
        "id": "gAxsU_gqXKlJ"
      },
      "source": [
        "Obtaining language model from huggingface\n"
      ]
    },
    {
      "cell_type": "code",
      "execution_count": null,
      "metadata": {
        "colab": {
          "base_uri": "https://localhost:8080/"
        },
        "collapsed": true,
        "id": "rXvpIBMKXE0w",
        "outputId": "8c75eb1b-369d-4e06-82d7-4ae658d65b00"
      },
      "outputs": [],
      "source": [
        "!huggingface-cli download bartowski/Llama-3.2-3B-Instruct-GGUF  --include \"Llama-3.2-3B-Instruct-f16.gguf\" --local-dir ./"
      ]
    },
    {
      "cell_type": "markdown",
      "metadata": {
        "id": "rehdUCejYdKp"
      },
      "source": [
        "Installing langchain and langchain comunity"
      ]
    },
    {
      "cell_type": "code",
      "execution_count": null,
      "metadata": {
        "colab": {
          "base_uri": "https://localhost:8080/"
        },
        "id": "jKlgrKPjYK3b",
        "outputId": "00fcbfed-8382-403b-daef-76989eb4984b"
      },
      "outputs": [],
      "source": [
        "!pip install langchain\n",
        "!pip install langchain-community"
      ]
    },
    {
      "cell_type": "markdown",
      "metadata": {
        "id": "0FEbBPeHaKJP"
      },
      "source": [
        "Installing gradio"
      ]
    },
    {
      "cell_type": "markdown",
      "metadata": {
        "id": "021OHD8AZ_Ve"
      },
      "source": [
        "Imports"
      ]
    },
    {
      "cell_type": "code",
      "execution_count": null,
      "metadata": {
        "id": "svrw_WD1Z_5e"
      },
      "outputs": [],
      "source": [
        "from langchain.text_splitter import RecursiveCharacterTextSplitter\n",
        "from langchain_community.llms import LlamaCpp\n"
      ]
    },
    {
      "cell_type": "code",
      "execution_count": 1,
      "metadata": {},
      "outputs": [],
      "source": [
        "import gradio as gr\n",
        "import whisper\n",
        "import os\n",
        "import torch"
      ]
    },
    {
      "cell_type": "markdown",
      "metadata": {
        "id": "2HSLo5L2afTH"
      },
      "source": [
        "## Implementation"
      ]
    },
    {
      "cell_type": "markdown",
      "metadata": {
        "id": "DQF_Ge-pavFY"
      },
      "source": [
        "Configuring the language model"
      ]
    },
    {
      "cell_type": "markdown",
      "metadata": {
        "id": "eg7BA-CmtFCa"
      },
      "source": [
        "load whisper and deepseek"
      ]
    },
    {
      "cell_type": "code",
      "execution_count": 4,
      "metadata": {
        "colab": {
          "base_uri": "https://localhost:8080/"
        },
        "id": "yPaPGBlas-hV",
        "outputId": "16944aa9-c760-4e65-9b85-0c571c1c1d71"
      },
      "outputs": [
        {
          "name": "stderr",
          "output_type": "stream",
          "text": [
            "d:\\TESIS\\System\\.venv\\Lib\\site-packages\\whisper\\__init__.py:69: UserWarning: C:\\Users\\lin\\.cache\\whisper\\base.pt exists, but the SHA256 checksum does not match; re-downloading the file\n",
            "  warnings.warn(\n",
            "100%|████████████████████████████████████████| 139M/139M [05:02<00:00, 480kiB/s]\n"
          ]
        }
      ],
      "source": [
        "transcription_model = whisper.load_model(\"base\")"
      ]
    },
    {
      "cell_type": "code",
      "execution_count": null,
      "metadata": {
        "id": "noLXQ4uzaexF"
      },
      "outputs": [],
      "source": [
        "llm = LlamaCpp(\n",
        "    model_path=\"/content/Llama-3.2-3B-Instruct-f16.gguf\",\n",
        "    temperature=0.8,\n",
        "    top_p=1,\n",
        "    verbose=True,\n",
        "    n_ctx=4096\n",
        ")"
      ]
    },
    {
      "cell_type": "code",
      "execution_count": 26,
      "metadata": {},
      "outputs": [],
      "source": []
    },
    {
      "cell_type": "code",
      "execution_count": null,
      "metadata": {},
      "outputs": [],
      "source": []
    },
    {
      "cell_type": "code",
      "execution_count": 33,
      "metadata": {
        "colab": {
          "base_uri": "https://localhost:8080/",
          "height": 646
        },
        "id": "ze9sMjKQ3kBh",
        "outputId": "5ad05fb3-35d2-48a1-f861-14a3b9af92db"
      },
      "outputs": [
        {
          "name": "stdout",
          "output_type": "stream",
          "text": [
            "* Running on local URL:  http://127.0.0.1:7881\n",
            "\n",
            "To create a public link, set `share=True` in `launch()`.\n"
          ]
        },
        {
          "data": {
            "text/html": [
              "<div><iframe src=\"http://127.0.0.1:7881/\" width=\"100%\" height=\"500\" allow=\"autoplay; camera; microphone; clipboard-read; clipboard-write;\" frameborder=\"0\" allowfullscreen></iframe></div>"
            ],
            "text/plain": [
              "<IPython.core.display.HTML object>"
            ]
          },
          "metadata": {},
          "output_type": "display_data"
        },
        {
          "data": {
            "text/plain": []
          },
          "execution_count": 33,
          "metadata": {},
          "output_type": "execute_result"
        }
      ],
      "source": [
        "\n",
        "import gradio as gr\n",
        "\n",
        "def transcribe_audio(audio_file):\n",
        "    # result = transcription_model.transcribe(audio_file)\n",
        "    # transcription = result[\"text\"]\n",
        "    # return transcription\n",
        "    return 'This is a transcription example...'\n",
        "\n",
        "def edit_transcription(text):\n",
        "    return text\n",
        "\n",
        "def delete_transcription():\n",
        "    return \"\", False\n",
        "\n",
        "\n",
        "def audio_interface(audio):\n",
        "    assert audio, 'Audio should be defined'\n",
        " \n",
        "    if audio is None:\n",
        "        return \"Please upload an audio file.\", False\n",
        "#add error handlers with the transcription\n",
        "    transcription = transcribe_audio(audio)\n",
        "\n",
        "    return transcription, transcription, gr.update(interactive=True), gr.update(interactive=True) \n",
        "\n",
        "\n",
        "def edit_mode(edit_mode):\n",
        "    return gr.update(visible=True),gr.update(visible=True),gr.update(visible=False),gr.update(visible=False), gr.update(visible=False)\n",
        "\n",
        "\n",
        "def save_changes(edited_text, old_text):\n",
        "    if old_text != edited_text:\n",
        "        return gr.update(edited_text, visible=False), gr.update(edited_text, visible=True), gr.update(visible=False), gr.update(visible=True),gr.update(visible=True)\n",
        "    else: \n",
        "        return gr.update(old_text, visible=False), gr.update(old_text, visible=True), gr.update(visible=False), gr.update(visible=True),gr.update(visible=True) \n",
        "\n",
        "\n",
        "def cancel_edit(old_text):\n",
        "    return gr.update(old_text, visible=False), gr.update(old_text, visible=True), gr.update(visible=False), gr.update(visible=True),gr.update(visible=True)\n",
        "\n",
        "\n",
        "\n",
        "\n",
        "with gr.Blocks() as demo:\n",
        "    gr.Markdown(\"### Audio Transcription Interface\")\n",
        "\n",
        "\n",
        "    audio_input = gr.Audio(label=\"Upload Audio\", type=\"filepath\", interactive=True) #done\n",
        "        \n",
        "    transcribe_button = gr.Button(\"Transcribe Audio\", interactive=False) #done\n",
        "    \n",
        "    transcription_text_show = gr.Markdown(label=\"Transcription\")\n",
        "\n",
        "    transcription_text_editable = gr.Textbox(label=\"Transcription\", visible=False)\n",
        "\n",
        "    with gr.Row():\n",
        "        edit_button = gr.Button(\"Edit Transcription\", interactive=False) #done\n",
        "        delete_button = gr.Button(\"Delete Transcription\", interactive=False) #pending\n",
        "\n",
        "    with gr.Row(visible=False) as edit_controls:\n",
        "        save_button = gr.Button(\"Save Changes\") \n",
        "        cancel_edit_button = gr.Button(\"Cancel Edit\")\n",
        "\n",
        "    # Update transcription button state based on audio upload\n",
        "    audio_input.change(\n",
        "        fn=lambda audio: gr.update(interactive=audio is not None),\n",
        "        inputs=audio_input,\n",
        "        outputs=transcribe_button\n",
        "    )\n",
        "    # Perform transcription\n",
        "    transcribe_button.click(\n",
        "        fn=audio_interface,\n",
        "        inputs=audio_input,\n",
        "        outputs=[transcription_text_editable, transcription_text_show, edit_button, delete_button]\n",
        "    )\n",
        "\n",
        "    # Enable edit mode\n",
        "    edit_button.click(\n",
        "        fn=lambda: edit_mode(True),\n",
        "        outputs=[edit_controls, transcription_text_editable, edit_button, delete_button, transcription_text_show]\n",
        "    )\n",
        "    \n",
        "    # Save changes\n",
        "    save_button.click(\n",
        "        fn=save_changes,\n",
        "        inputs=[transcription_text_editable, transcription_text_show],\n",
        "        outputs=[transcription_text_editable, transcription_text_show, edit_controls, edit_button, delete_button]\n",
        "    )\n",
        "\n",
        "    # Cancel edit\n",
        "    cancel_edit_button.click(\n",
        "        fn=cancel_edit,\n",
        "        inputs=transcription_text_show,\n",
        "        outputs=[transcription_text_editable, transcription_text_show, edit_controls, edit_button, delete_button]\n",
        "    )\n",
        "\n",
        "    # Delete transcription\n",
        "    delete_button.click(\n",
        "        fn=delete_transcription,\n",
        "        outputs=[transcription_text_editable, edit_button]\n",
        "    )\n",
        "\n",
        "demo.launch()"
      ]
    },
    {
      "cell_type": "code",
      "execution_count": 6,
      "metadata": {},
      "outputs": [
        {
          "name": "stdout",
          "output_type": "stream",
          "text": [
            "* Running on local URL:  http://127.0.0.1:7864\n",
            "\n",
            "To create a public link, set `share=True` in `launch()`.\n"
          ]
        },
        {
          "data": {
            "text/html": [
              "<div><iframe src=\"http://127.0.0.1:7864/\" width=\"100%\" height=\"500\" allow=\"autoplay; camera; microphone; clipboard-read; clipboard-write;\" frameborder=\"0\" allowfullscreen></iframe></div>"
            ],
            "text/plain": [
              "<IPython.core.display.HTML object>"
            ]
          },
          "metadata": {},
          "output_type": "display_data"
        },
        {
          "data": {
            "text/plain": []
          },
          "execution_count": 6,
          "metadata": {},
          "output_type": "execute_result"
        }
      ],
      "source": [
        "import gradio as gr\n",
        "\n",
        "def transcribe_audio(audio_file):\n",
        "    # result = transcription_model.transcribe(audio_file)\n",
        "    # transcription = result[\"text\"]\n",
        "    # return transcription\n",
        "    return 'This is a transcription example...'\n",
        "\n",
        "def edit_transcription(text):\n",
        "    return text\n",
        "\n",
        "\n",
        "def audio_interface(audio):\n",
        "    if audio is None:\n",
        "        return \"Please upload an audio file.\", False\n",
        "\n",
        "    transcription = transcribe_audio(audio)\n",
        "\n",
        "    return transcription, True\n",
        "\n",
        "\n",
        "def update_transcription(transcription, edit_mode):\n",
        "    if edit_mode:\n",
        "        return gr.update(interactive=True)\n",
        "    else:\n",
        "        return gr.update(interactive=False)\n",
        "\n",
        "\n",
        "def save_changes(transcription, edited_text):\n",
        "    return edited_text, False\n",
        "\n",
        "\n",
        "def cancel_edit(transcription):\n",
        "    return transcription, False\n",
        "\n",
        "\n",
        "def delete_transcription():\n",
        "    return \"\", False\n",
        "\n",
        "with gr.Blocks() as demo:\n",
        "    gr.Markdown(\"### Audio Transcription Interface\")\n",
        "\n",
        "    with gr.Row():\n",
        "        audio_input = gr.Audio(label=\"Upload Audio\", type=\"filepath\", interactive=True)\n",
        "        cancel_button = gr.Button(\"Cancel Upload\", interactive=False)\n",
        "\n",
        "    transcribe_button = gr.Button(\"Transcribe Audio\", interactive=False)\n",
        "    transcription_text_editable = gr.Textbox(label=\"Transcription\", interactive=False)\n",
        "\n",
        "    with gr.Row():\n",
        "        edit_button = gr.Button(\"Edit Transcription\", interactive=False)\n",
        "        delete_button = gr.Button(\"Delete Transcription\", interactive=False)\n",
        "\n",
        "    with gr.Row(visible=False) as edit_controls:\n",
        "        save_button = gr.Button(\"Save Changes\")\n",
        "        cancel_edit_button = gr.Button(\"Cancel Edit\")\n",
        "\n",
        "    # Update transcription button state based on audio upload\n",
        "    audio_input.change(\n",
        "        fn=lambda audio: gr.update(interactive=audio is not None),\n",
        "        inputs=audio_input,\n",
        "        outputs=transcribe_button\n",
        "    )\n",
        "\n",
        "    # Perform transcription\n",
        "    transcribe_button.click(\n",
        "        fn=audio_interface,\n",
        "        inputs=audio_input,\n",
        "        outputs=[transcription_text_editable, edit_button]\n",
        "    )\n",
        "\n",
        "    # Enable edit mode\n",
        "    edit_button.click(\n",
        "        fn=lambda: gr.update(visible=True),\n",
        "        outputs=edit_controls\n",
        "    ).then(\n",
        "        fn=lambda: gr.update(interactive=True),\n",
        "        outputs=transcription_text_editable\n",
        "    )\n",
        "\n",
        "    # Save changes\n",
        "    save_button.click(\n",
        "        fn=save_changes,\n",
        "        inputs=[transcription_text_editable, transcription_text_editable],\n",
        "        outputs=[transcription_text_editable, edit_controls]\n",
        "    )\n",
        "\n",
        "    # Cancel edit\n",
        "    cancel_edit_button.click(\n",
        "        fn=cancel_edit,\n",
        "        inputs=transcription_text_editable,\n",
        "        outputs=[transcription_text_editable, edit_controls]\n",
        "    )\n",
        "\n",
        "    # Delete transcription\n",
        "    delete_button.click(\n",
        "        fn=delete_transcription,\n",
        "        outputs=[transcription_text_editable, edit_button]\n",
        "    )\n",
        "\n",
        "demo.launch()"
      ]
    }
  ],
  "metadata": {
    "colab": {
      "provenance": []
    },
    "kernelspec": {
      "display_name": ".venv",
      "language": "python",
      "name": "python3"
    },
    "language_info": {
      "codemirror_mode": {
        "name": "ipython",
        "version": 3
      },
      "file_extension": ".py",
      "mimetype": "text/x-python",
      "name": "python",
      "nbconvert_exporter": "python",
      "pygments_lexer": "ipython3",
      "version": "3.12.6"
    }
  },
  "nbformat": 4,
  "nbformat_minor": 0
}
